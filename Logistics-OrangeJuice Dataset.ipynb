{
 "cells": [
  {
   "cell_type": "code",
   "execution_count": 69,
   "id": "789abb45",
   "metadata": {},
   "outputs": [],
   "source": [
    "import numpy as np\n",
    "import pandas as pd\n",
    "from scipy.stats import stats\n",
    "from sklearn.linear_model import LogisticRegression\n",
    "from sklearn.model_selection import train_test_split\n",
    "from sklearn import metrics"
   ]
  },
  {
   "cell_type": "code",
   "execution_count": null,
   "id": "b575ceb8",
   "metadata": {},
   "outputs": [],
   "source": [
    "#import data\n",
    "data = pd.read_csv('OJ_train.csv')\n",
    "data1 = pd.get_dummies(data=data, columns=['Purchase', 'Store7'], drop_first=True)"
   ]
  },
  {
   "cell_type": "code",
   "execution_count": 71,
   "id": "2783b79d",
   "metadata": {},
   "outputs": [
    {
     "data": {
      "text/html": [
       "<div>\n",
       "<style scoped>\n",
       "    .dataframe tbody tr th:only-of-type {\n",
       "        vertical-align: middle;\n",
       "    }\n",
       "\n",
       "    .dataframe tbody tr th {\n",
       "        vertical-align: top;\n",
       "    }\n",
       "\n",
       "    .dataframe thead th {\n",
       "        text-align: right;\n",
       "    }\n",
       "</style>\n",
       "<table border=\"1\" class=\"dataframe\">\n",
       "  <thead>\n",
       "    <tr style=\"text-align: right;\">\n",
       "      <th></th>\n",
       "      <th>WeekofPurchase</th>\n",
       "      <th>StoreID</th>\n",
       "      <th>PriceCH</th>\n",
       "      <th>PriceMM</th>\n",
       "      <th>DiscCH</th>\n",
       "      <th>DiscMM</th>\n",
       "      <th>SpecialCH</th>\n",
       "      <th>SpecialMM</th>\n",
       "      <th>LoyalCH</th>\n",
       "      <th>SalePriceMM</th>\n",
       "      <th>SalePriceCH</th>\n",
       "      <th>PriceDiff</th>\n",
       "      <th>PctDiscMM</th>\n",
       "      <th>PctDiscCH</th>\n",
       "      <th>ListPriceDiff</th>\n",
       "      <th>STORE</th>\n",
       "      <th>Store7_Yes</th>\n",
       "    </tr>\n",
       "  </thead>\n",
       "  <tbody>\n",
       "    <tr>\n",
       "      <th>0</th>\n",
       "      <td>238</td>\n",
       "      <td>3</td>\n",
       "      <td>1.79</td>\n",
       "      <td>2.09</td>\n",
       "      <td>0.0</td>\n",
       "      <td>0.0</td>\n",
       "      <td>0</td>\n",
       "      <td>0</td>\n",
       "      <td>0.145350</td>\n",
       "      <td>2.09</td>\n",
       "      <td>1.79</td>\n",
       "      <td>0.30</td>\n",
       "      <td>0.000000</td>\n",
       "      <td>0.000000</td>\n",
       "      <td>0.30</td>\n",
       "      <td>3</td>\n",
       "      <td>0</td>\n",
       "    </tr>\n",
       "    <tr>\n",
       "      <th>1</th>\n",
       "      <td>228</td>\n",
       "      <td>7</td>\n",
       "      <td>1.69</td>\n",
       "      <td>1.69</td>\n",
       "      <td>0.0</td>\n",
       "      <td>0.0</td>\n",
       "      <td>0</td>\n",
       "      <td>0</td>\n",
       "      <td>0.584000</td>\n",
       "      <td>1.69</td>\n",
       "      <td>1.69</td>\n",
       "      <td>0.00</td>\n",
       "      <td>0.000000</td>\n",
       "      <td>0.000000</td>\n",
       "      <td>0.00</td>\n",
       "      <td>0</td>\n",
       "      <td>1</td>\n",
       "    </tr>\n",
       "    <tr>\n",
       "      <th>2</th>\n",
       "      <td>244</td>\n",
       "      <td>7</td>\n",
       "      <td>1.86</td>\n",
       "      <td>2.09</td>\n",
       "      <td>0.0</td>\n",
       "      <td>0.2</td>\n",
       "      <td>0</td>\n",
       "      <td>0</td>\n",
       "      <td>0.992794</td>\n",
       "      <td>1.89</td>\n",
       "      <td>1.86</td>\n",
       "      <td>0.03</td>\n",
       "      <td>0.095694</td>\n",
       "      <td>0.000000</td>\n",
       "      <td>0.23</td>\n",
       "      <td>0</td>\n",
       "      <td>1</td>\n",
       "    </tr>\n",
       "    <tr>\n",
       "      <th>3</th>\n",
       "      <td>263</td>\n",
       "      <td>1</td>\n",
       "      <td>1.76</td>\n",
       "      <td>1.99</td>\n",
       "      <td>0.0</td>\n",
       "      <td>0.4</td>\n",
       "      <td>0</td>\n",
       "      <td>1</td>\n",
       "      <td>0.400000</td>\n",
       "      <td>1.59</td>\n",
       "      <td>1.76</td>\n",
       "      <td>-0.17</td>\n",
       "      <td>0.201005</td>\n",
       "      <td>0.000000</td>\n",
       "      <td>0.23</td>\n",
       "      <td>1</td>\n",
       "      <td>0</td>\n",
       "    </tr>\n",
       "    <tr>\n",
       "      <th>4</th>\n",
       "      <td>271</td>\n",
       "      <td>4</td>\n",
       "      <td>1.99</td>\n",
       "      <td>2.09</td>\n",
       "      <td>0.1</td>\n",
       "      <td>0.4</td>\n",
       "      <td>1</td>\n",
       "      <td>0</td>\n",
       "      <td>0.999797</td>\n",
       "      <td>1.69</td>\n",
       "      <td>1.89</td>\n",
       "      <td>-0.20</td>\n",
       "      <td>0.191388</td>\n",
       "      <td>0.050251</td>\n",
       "      <td>0.10</td>\n",
       "      <td>4</td>\n",
       "      <td>0</td>\n",
       "    </tr>\n",
       "  </tbody>\n",
       "</table>\n",
       "</div>"
      ],
      "text/plain": [
       "   WeekofPurchase  StoreID  PriceCH  PriceMM  DiscCH  DiscMM  SpecialCH  \\\n",
       "0             238        3     1.79     2.09     0.0     0.0          0   \n",
       "1             228        7     1.69     1.69     0.0     0.0          0   \n",
       "2             244        7     1.86     2.09     0.0     0.2          0   \n",
       "3             263        1     1.76     1.99     0.0     0.4          0   \n",
       "4             271        4     1.99     2.09     0.1     0.4          1   \n",
       "\n",
       "   SpecialMM   LoyalCH  SalePriceMM  SalePriceCH  PriceDiff  PctDiscMM  \\\n",
       "0          0  0.145350         2.09         1.79       0.30   0.000000   \n",
       "1          0  0.584000         1.69         1.69       0.00   0.000000   \n",
       "2          0  0.992794         1.89         1.86       0.03   0.095694   \n",
       "3          1  0.400000         1.59         1.76      -0.17   0.201005   \n",
       "4          0  0.999797         1.69         1.89      -0.20   0.191388   \n",
       "\n",
       "   PctDiscCH  ListPriceDiff  STORE  Store7_Yes  \n",
       "0   0.000000           0.30      3           0  \n",
       "1   0.000000           0.00      0           1  \n",
       "2   0.000000           0.23      0           1  \n",
       "3   0.000000           0.23      1           0  \n",
       "4   0.050251           0.10      4           0  "
      ]
     },
     "execution_count": 71,
     "metadata": {},
     "output_type": "execute_result"
    }
   ],
   "source": [
    "#Deal with data\n",
    "data_X = data1.drop(labels=['Purchase_MM'], axis=1, inplace=False)\n",
    "data_Y = data1['Purchase_MM']\n",
    "data_X.head()"
   ]
  },
  {
   "cell_type": "code",
   "execution_count": 72,
   "id": "08eae7fe",
   "metadata": {},
   "outputs": [],
   "source": [
    "#Set model\n",
    "model = LogisticRegression(random_state=0, max_iter=10000,).fit(data_X, data_Y)\n",
    "pred = model.predict(data_X)"
   ]
  },
  {
   "cell_type": "code",
   "execution_count": 73,
   "id": "2443d188",
   "metadata": {},
   "outputs": [],
   "source": [
    "#predict\n",
    "test = pd.read_csv('OJ_test.csv')\n",
    "data2 = pd.get_dummies(data = test, columns=['Purchase', 'Store7'], drop_first=True)\n",
    "\n",
    "test_X = data2.drop(labels=['Purchase_MM'], axis=1, inplace=False)\n",
    "test_Y = data2['Purchase_MM']\n",
    "\n",
    "t = model.predict(test_X)"
   ]
  },
  {
   "cell_type": "code",
   "execution_count": 74,
   "id": "c32bcbb7",
   "metadata": {},
   "outputs": [
    {
     "name": "stdout",
     "output_type": "stream",
     "text": [
      "[[149  17]\n",
      " [ 26  78]]\n"
     ]
    }
   ],
   "source": [
    "print(metrics.confusion_matrix(test_Y, t)) #Confusion Matrix"
   ]
  },
  {
   "cell_type": "code",
   "execution_count": 75,
   "id": "48fb7289",
   "metadata": {},
   "outputs": [
    {
     "name": "stdout",
     "output_type": "stream",
     "text": [
      "              precision    recall  f1-score   support\n",
      "\n",
      "           0       0.85      0.90      0.87       166\n",
      "           1       0.82      0.75      0.78       104\n",
      "\n",
      "    accuracy                           0.84       270\n",
      "   macro avg       0.84      0.82      0.83       270\n",
      "weighted avg       0.84      0.84      0.84       270\n",
      "\n"
     ]
    }
   ],
   "source": [
    "print(metrics.classification_report(test_Y, t)) #Result"
   ]
  }
 ],
 "metadata": {
  "kernelspec": {
   "display_name": "Python 3.10.2 64-bit",
   "language": "python",
   "name": "python3"
  },
  "language_info": {
   "codemirror_mode": {
    "name": "ipython",
    "version": 3
   },
   "file_extension": ".py",
   "mimetype": "text/x-python",
   "name": "python",
   "nbconvert_exporter": "python",
   "pygments_lexer": "ipython3",
   "version": "3.10.2"
  },
  "vscode": {
   "interpreter": {
    "hash": "e0e336b1a2a1e2ebd2ba24f5a9da77c2b9301bb429c7020fd46a35ddd30d005b"
   }
  }
 },
 "nbformat": 4,
 "nbformat_minor": 5
}
