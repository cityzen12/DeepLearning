{
 "cells": [
  {
   "cell_type": "markdown",
   "metadata": {},
   "source": [
    "### A linear network for MNIST dataset\n",
    "##### Use L2, earlystopping as well as dropout"
   ]
  },
  {
   "cell_type": "code",
   "execution_count": 79,
   "metadata": {},
   "outputs": [],
   "source": [
    "import pandas as pd\n",
    "import numpy as np\n",
    "import matplotlib.pyplot as plt\n",
    "import idx2numpy\n",
    "\n",
    "import torch\n",
    "import torch.nn as nn\n",
    "import torch.nn.functional as F\n",
    "import torch.optim as optim\n",
    "\n",
    "from ES import EarlyStopping\n",
    "from torch.utils.data import Dataset, DataLoader, TensorDataset"
   ]
  },
  {
   "cell_type": "code",
   "execution_count": 49,
   "metadata": {},
   "outputs": [],
   "source": [
    "import warnings\n",
    "from IPython.core.interactiveshell import InteractiveShell\n",
    "\n",
    "warnings.filterwarnings('ignore')\n",
    "InteractiveShell.ast_node_interactivity = \"all\""
   ]
  },
  {
   "cell_type": "markdown",
   "metadata": {},
   "source": [
    "### Q1"
   ]
  },
  {
   "cell_type": "code",
   "execution_count": null,
   "metadata": {},
   "outputs": [],
   "source": [
    "x_train = idx2numpy.convert_from_file('mnist/train-images.idx3-ubyte')\n",
    "y_train = idx2numpy.convert_from_file('mnist/train-labels.idx1-ubyte')\n",
    "x_test = idx2numpy.convert_from_file('mnist/t10k-images.idx3-ubyte')\n",
    "y_test = idx2numpy.convert_from_file('mnist/t10k-labels.idx1-ubyte')\n",
    "\n",
    "train_data = TensorDataset(torch.from_numpy(x_train).float(), torch.from_numpy(y_train).long())\n",
    "test_data = TensorDataset(torch.from_numpy(x_test).float(), torch.from_numpy(y_test).long())\n",
    "train_loader = DataLoader(train_data, batch_size=64, shuffle=True)\n",
    "test_loader = DataLoader(test_data, batch_size=64, shuffle=True)"
   ]
  },
  {
   "cell_type": "code",
   "execution_count": 3,
   "metadata": {},
   "outputs": [],
   "source": [
    "class Net1(nn.Module):\n",
    "    def __init__(self):\n",
    "        super(Net1, self).__init__()\n",
    "        self.flatten = nn.Flatten()\n",
    "        self.fc1 = nn.Linear(28*28, 200)\n",
    "        self.fc2 = nn.Linear(200, 10)\n",
    "        \n",
    "    def forward(self, x):\n",
    "        x = self.flatten(x)\n",
    "        x = torch.tanh(self.fc1(x))\n",
    "        x = self.fc2(x)\n",
    "        return x\n",
    "\n",
    "class Net2(nn.Module):\n",
    "    def __init__(self):\n",
    "        super(Net2, self).__init__()\n",
    "        self.flatten = nn.Flatten()\n",
    "        self.fc1 = nn.Linear(28*28, 16)\n",
    "        self.fc2 = nn.Linear(16, 10)\n",
    "        \n",
    "    def forward(self, x):\n",
    "        x = self.flatten(x)\n",
    "        x = torch.tanh(self.fc1(x))\n",
    "        x = self.fc2(x)\n",
    "        return x\n",
    "\n",
    "model1 = Net1()\n",
    "model2 = Net2()"
   ]
  },
  {
   "cell_type": "code",
   "execution_count": 4,
   "metadata": {},
   "outputs": [
    {
     "data": {
      "image/png": "[encoded data removed]",
      "text/plain": [
       "<Figure size 432x288 with 1 Axes>"
      ]
     },
     "metadata": {
      "needs_background": "light"
     },
     "output_type": "display_data"
    }
   ],
   "source": [
    "epoch = 20\n",
    "lr = 1e-3\n",
    "\n",
    "criterion = nn.CrossEntropyLoss()\n",
    "optimizer1 = optim.SGD(model1.parameters(), lr=lr)\n",
    "optimizer2 = optim.SGD(model2.parameters(), lr=lr)\n",
    "\n",
    "loss1 = list()\n",
    "loss2 = list()\n",
    "\n",
    "for i in range(epoch):\n",
    "    for x, y in train_loader:\n",
    "        optimizer1.zero_grad()\n",
    "        optimizer2.zero_grad()\n",
    "        \n",
    "        y_pred1 = model1(x)\n",
    "        y_pred2 = model2(x)\n",
    "        \n",
    "        l1 = criterion(y_pred1, y)\n",
    "        l2 = criterion(y_pred2, y)\n",
    "        \n",
    "        l1.backward()\n",
    "        l2.backward()\n",
    "        \n",
    "        optimizer1.step()\n",
    "        optimizer2.step()\n",
    "        \n",
    "        loss1.append(l1.item())\n",
    "        loss2.append(l2.item())\n",
    "\n",
    "plt.plot(loss1, label='model1')\n",
    "plt.plot(loss2, label='model2')\n",
    "plt.legend()\n",
    "plt.show()"
   ]
  },
  {
   "cell_type": "code",
   "execution_count": 5,
   "metadata": {},
   "outputs": [
    {
     "name": "stdout",
     "output_type": "stream",
     "text": [
      "model1's accuracy is 94.70%\n",
      "model2's accuracy is 88.89%\n"
     ]
    }
   ],
   "source": [
    "# test\n",
    "\n",
    "model1.eval()\n",
    "model2.eval()\n",
    "\n",
    "correct1 = 0\n",
    "correct2 = 0\n",
    "\n",
    "for x, y in test_loader:\n",
    "    y_pred1 = model1(x)\n",
    "    y_pred2 = model2(x)\n",
    "    \n",
    "    y_pred1 = torch.argmax(y_pred1, dim=1)\n",
    "    y_pred2 = torch.argmax(y_pred2, dim=1)\n",
    "    \n",
    "    correct1 += torch.sum(y_pred1 == y).item()\n",
    "    correct2 += torch.sum(y_pred2 == y).item()\n",
    "\n",
    "print('model1\\'s accuracy is %.2f%%' % (100 * correct1 / len(test_data)))\n",
    "print('model2\\'s accuracy is %.2f%%' % (100 * correct2 / len(test_data)))"
   ]
  },
  {
   "cell_type": "markdown",
   "metadata": {},
   "source": [
    "### Q2 Using Early Stopping"
   ]
  },
  {
   "cell_type": "code",
   "execution_count": 64,
   "metadata": {},
   "outputs": [],
   "source": [
    "def load_mnist_sub(path, kind):\n",
    "    import os\n",
    "    import gzip\n",
    "    import numpy as np\n",
    "\n",
    "    \"\"\"Load MNIST data from `path`\"\"\"\n",
    "    labels_path = os.path.join(path,\n",
    "                               '%s-labels-idx1-ubyte.gz'\n",
    "                               % kind)\n",
    "    images_path = os.path.join(path,\n",
    "                               '%s-images-idx3-ubyte.gz'\n",
    "                               % kind)\n",
    "\n",
    "    with gzip.open(labels_path, 'rb') as lbpath:\n",
    "        labels = np.frombuffer(lbpath.read(), dtype=np.uint8,\n",
    "                               offset=0)\n",
    "\n",
    "    with gzip.open(images_path, 'rb') as imgpath:\n",
    "        images = np.frombuffer(imgpath.read(), dtype=np.uint8,\n",
    "                               offset=0).reshape(len(labels), 784)\n",
    "\n",
    "    return images, labels\n",
    "\n",
    "x_train, y_train = load_mnist_sub('fashion_sub', kind='train_sub')\n",
    "x_test, y_test = load_mnist_sub('fashion_sub', kind='test_sub')\n",
    "\n",
    "train_data  = TensorDataset(torch.from_numpy(x_train.copy()).float(), torch.from_numpy(y_train.copy()).long())\n",
    "test_data = TensorDataset(torch.from_numpy(x_test.copy()).float(), torch.from_numpy(y_test.copy()).long())\n",
    "\n",
    "train_loader = DataLoader(train_data, batch_size=64, shuffle=True)\n",
    "test_loader = DataLoader(test_data, batch_size=64, shuffle=True)"
   ]
  },
  {
   "cell_type": "code",
   "execution_count": 80,
   "metadata": {},
   "outputs": [],
   "source": [
    "# using early stopping\n",
    "\n",
    "earlystopping = EarlyStopping(patience=5, verbose=True)\n",
    "\n",
    "class Net3(nn.Module):\n",
    "    def __init__(self):\n",
    "        super(Net3, self).__init__()\n",
    "        self.flatten = nn.Flatten()\n",
    "        self.fc1 = nn.Linear(28*28, 200)\n",
    "        self.fc2 = nn.Linear(200, 10)\n",
    "        \n",
    "    def forward(self, x):\n",
    "        x = self.flatten(x)\n",
    "        x = torch.tanh(self.fc1(x))\n",
    "        x = self.fc2(x)\n",
    "        return x"
   ]
  },
  {
   "cell_type": "code",
   "execution_count": 66,
   "metadata": {},
   "outputs": [
    {
     "data": {
      "text/plain": [
       "[<matplotlib.lines.Line2D at 0x1f923a09510>]"
      ]
     },
     "execution_count": 66,
     "metadata": {},
     "output_type": "execute_result"
    },
    {
     "data": {
      "image/png": "[encoded data removed]",
      "text/plain": [
       "<Figure size 432x288 with 1 Axes>"
      ]
     },
     "metadata": {
      "needs_background": "light"
     },
     "output_type": "display_data"
    }
   ],
   "source": [
    "model3 = Net3()\n",
    "\n",
    "epoch = 20\n",
    "lr = 1e-3\n",
    "criterion = nn.CrossEntropyLoss()\n",
    "optimizer3 = optim.Adam(model3.parameters(), lr=lr)\n",
    "\n",
    "loss3 = list()\n",
    "\n",
    "for i in range(epoch):\n",
    "    for x, y in train_loader:\n",
    "        y_hat = model3(x)\n",
    "        loss = criterion(y_hat, y)\n",
    "        loss3.append(loss.item())\n",
    "        optimizer3.zero_grad()\n",
    "        loss.backward()\n",
    "        optimizer3.step()\n",
    "\n",
    "plt.plot(loss3)"
   ]
  },
  {
   "cell_type": "code",
   "execution_count": 83,
   "metadata": {},
   "outputs": [
    {
     "data": {
      "text/plain": [
       "Net3(\n",
       "  (flatten): Flatten(start_dim=1, end_dim=-1)\n",
       "  (fc1): Linear(in_features=784, out_features=200, bias=True)\n",
       "  (fc2): Linear(in_features=200, out_features=10, bias=True)\n",
       ")"
      ]
     },
     "execution_count": 83,
     "metadata": {},
     "output_type": "execute_result"
    },
    {
     "name": "stdout",
     "output_type": "stream",
     "text": [
      "EarlyStopping counter: 7 out of 5\n",
      "Early Stopping\n"
     ]
    },
    {
     "data": {
      "text/plain": [
       "<All keys matched successfully>"
      ]
     },
     "execution_count": 83,
     "metadata": {},
     "output_type": "execute_result"
    },
    {
     "name": "stdout",
     "output_type": "stream",
     "text": [
      "Average validation loss is 0.90\n",
      "Best validation loss is 0.89\n"
     ]
    }
   ],
   "source": [
    "model3.eval()\n",
    "\n",
    "val_loss = list()\n",
    "\n",
    "for x, y in test_loader:\n",
    "    y_hat = model3(x)\n",
    "    loss = criterion(y_hat, y)\n",
    "    val_loss.append(loss.item())\n",
    "    \n",
    "    earlystopping(loss, model3)\n",
    "    \n",
    "    if earlystopping.early_stop:\n",
    "        print('Early Stopping')\n",
    "        break\n",
    "\n",
    "model3.load_state_dict(torch.load('checkpoint.pt'))\n",
    "avg_val_loss = np.mean(val_loss)\n",
    "print('Average validation loss is %.2f' % avg_val_loss)\n",
    "print('Best validation loss is %.2f' % earlystopping.val_loss_min)"
   ]
  },
  {
   "cell_type": "markdown",
   "metadata": {},
   "source": [
    "### Q3 Using L2"
   ]
  },
  {
   "cell_type": "code",
   "execution_count": 10,
   "metadata": {},
   "outputs": [],
   "source": [
    "class Net4(nn.Module):\n",
    "    def __init__(self):\n",
    "        super(Net4, self).__init__()\n",
    "        self.flatten = nn.Flatten()\n",
    "        self.l1 = nn.Linear(28*28, 256)\n",
    "        self.l2 = nn.Linear(256, 128)\n",
    "        self.l3 = nn.Linear(128, 64)\n",
    "        self.l4 = nn.Linear(64, 10)\n",
    "        \n",
    "    def forward(self, x):\n",
    "        x = self.flatten(x)\n",
    "        x = F.relu(self.l1(x))\n",
    "        x = F.relu(self.l2(x))\n",
    "        x = self.l3(x)\n",
    "        x = self.l4(x)\n",
    "        return x\n",
    "\n",
    "model4 = Net4()\n",
    "\n",
    "epoch = 20\n",
    "lr = 1e-3\n",
    "\n",
    "criterion = nn.CrossEntropyLoss()\n",
    "optimizer4 = optim.Adam(model4.parameters(), lr=lr, weight_decay=0.5)\n",
    "optimizer41 = optim.Adam(model4.parameters(), lr=lr, weight_decay=0.9)\n"
   ]
  },
  {
   "cell_type": "code",
   "execution_count": null,
   "metadata": {},
   "outputs": [
    {
     "data": {
      "text/plain": [
       "[<matplotlib.lines.Line2D at 0x22c1b5f2020>]"
      ]
     },
     "execution_count": 21,
     "metadata": {},
     "output_type": "execute_result"
    },
    {
     "data": {
      "image/png": "[encoded data removed]",
      "text/plain": [
       "<Figure size 432x288 with 1 Axes>"
      ]
     },
     "metadata": {
      "needs_background": "light"
     },
     "output_type": "display_data"
    }
   ],
   "source": [
    "loss4 = list()\n",
    "\n",
    "for i in range(epoch):\n",
    "    for x, y in train_loader:\n",
    "        y_hat = model4(x)\n",
    "        loss = criterion(y_hat, y)\n",
    "        loss4.append(loss.item())\n",
    "        optimizer4.zero_grad()\n",
    "        loss.backward()\n",
    "        optimizer4.step()\n",
    "\n",
    "plt.plot(loss4)"
   ]
  },
  {
   "cell_type": "code",
   "execution_count": 23,
   "metadata": {},
   "outputs": [
    {
     "data": {
      "text/plain": [
       "[<matplotlib.lines.Line2D at 0x22c1b2722c0>]"
      ]
     },
     "execution_count": 23,
     "metadata": {},
     "output_type": "execute_result"
    },
    {
     "data": {
      "image/png": "[encoded data removed]",
      "text/plain": [
       "<Figure size 432x288 with 1 Axes>"
      ]
     },
     "metadata": {
      "needs_background": "light"
     },
     "output_type": "display_data"
    }
   ],
   "source": [
    "loss41 = list()\n",
    "\n",
    "for i in range(epoch):\n",
    "    for x, y in train_loader:\n",
    "        y_hat = model4(x)\n",
    "        loss = criterion(y_hat, y)\n",
    "        loss41.append(loss.item())\n",
    "        optimizer41.zero_grad()\n",
    "        loss.backward()\n",
    "        optimizer41.step()\n",
    "\n",
    "plt.plot(loss41)"
   ]
  },
  {
   "cell_type": "code",
   "execution_count": null,
   "metadata": {},
   "outputs": [
    {
     "name": "stdout",
     "output_type": "stream",
     "text": [
      "model4's accuracy is 73.46%\n"
     ]
    }
   ],
   "source": [
    "model4.eval()\n",
    "\n",
    "correct4 = 0\n",
    "\n",
    "for x, y in test_loader:\n",
    "    y_pred4 = model4(x)\n",
    "    \n",
    "    y_pred4 = torch.argmax(y_pred4, dim=1)\n",
    "    \n",
    "    correct4 += torch.sum(y_pred4 == y).item()\n",
    "\n",
    "print('model4\\'s accuracy is %.2f%%' % (100 * correct4 / len(test_data)))"
   ]
  },
  {
   "cell_type": "markdown",
   "metadata": {},
   "source": [
    "### Q4 Using Dropout"
   ]
  },
  {
   "cell_type": "code",
   "execution_count": 28,
   "metadata": {},
   "outputs": [],
   "source": [
    "class Net5(nn.Module):\n",
    "    def __init__(self):\n",
    "        super(Net5, self).__init__()\n",
    "        self.flatten = nn.Flatten()\n",
    "        self.l1 = nn.Linear(28*28, 256)\n",
    "        self.l2 = nn.Linear(256, 64)\n",
    "        self.l3 = nn.Linear(64, 10)\n",
    "        self.dropout = nn.Dropout(p=0.5)\n",
    "        \n",
    "    def forward(self, x):\n",
    "        x = self.flatten(x)\n",
    "        x = F.relu(self.l1(x))\n",
    "        x = F.relu(self.l2(x))\n",
    "        x = self.l3(x)\n",
    "        x = self.dropout(x)\n",
    "        return x\n",
    "\n",
    "model5 = Net5()\n",
    "\n",
    "epoch = 20\n",
    "lr = 1e-3\n",
    "\n",
    "criterion = nn.CrossEntropyLoss()\n",
    "optimizer5 = optim.Adam(model5.parameters(), lr=lr)"
   ]
  },
  {
   "cell_type": "code",
   "execution_count": 29,
   "metadata": {},
   "outputs": [
    {
     "data": {
      "text/plain": [
       "[<matplotlib.lines.Line2D at 0x22c0e025450>]"
      ]
     },
     "execution_count": 29,
     "metadata": {},
     "output_type": "execute_result"
    },
    {
     "data": {
      "image/png": "[encoded data removed]",
      "text/plain": [
       "<Figure size 432x288 with 1 Axes>"
      ]
     },
     "metadata": {
      "needs_background": "light"
     },
     "output_type": "display_data"
    }
   ],
   "source": [
    "loss5 = list()\n",
    "\n",
    "for i in range(epoch):\n",
    "    for x, y in train_loader:\n",
    "        y_hat = model5(x)\n",
    "        loss = criterion(y_hat, y)\n",
    "        loss5.append(loss.item())\n",
    "        optimizer5.zero_grad()\n",
    "        loss.backward()\n",
    "        optimizer5.step()\n",
    "\n",
    "plt.plot(loss5)"
   ]
  },
  {
   "cell_type": "code",
   "execution_count": 30,
   "metadata": {},
   "outputs": [
    {
     "name": "stdout",
     "output_type": "stream",
     "text": [
      "model5's accuracy is 97.16%\n"
     ]
    }
   ],
   "source": [
    "model5.eval()\n",
    "\n",
    "correct5 = 0\n",
    "\n",
    "for x, y in test_loader:\n",
    "    y_pred5 = model5(x)\n",
    "    \n",
    "    y_pred5 = torch.argmax(y_pred5, dim=1)\n",
    "    \n",
    "    correct5 += torch.sum(y_pred5 == y).item()\n",
    "\n",
    "print('model5\\'s accuracy is %.2f%%' % (100 * correct5 / len(test_data)))"
   ]
  },
  {
   "cell_type": "markdown",
   "metadata": {},
   "source": [
    "### Q5 Using L2 and Dropout"
   ]
  },
  {
   "cell_type": "code",
   "execution_count": 31,
   "metadata": {},
   "outputs": [
    {
     "data": {
      "text/plain": [
       "[<matplotlib.lines.Line2D at 0x22c0e0b5120>]"
      ]
     },
     "execution_count": 31,
     "metadata": {},
     "output_type": "execute_result"
    },
    {
     "data": {
      "image/png": "[encoded data removed]",
      "text/plain": [
       "<Figure size 432x288 with 1 Axes>"
      ]
     },
     "metadata": {
      "needs_background": "light"
     },
     "output_type": "display_data"
    }
   ],
   "source": [
    "# using model5 and change the optimizer parameter\n",
    "\n",
    "epoch = 20\n",
    "lr = 1e-3\n",
    "\n",
    "criterion = nn.CrossEntropyLoss()\n",
    "optimizer6 = optim.Adam(model5.parameters(), lr=lr, weight_decay=0.5)\n",
    "\n",
    "loss6 = list()\n",
    "\n",
    "for i in range(epoch):\n",
    "    for x, y in train_loader:\n",
    "        y_hat = model5(x)\n",
    "        loss = criterion(y_hat, y)\n",
    "        loss6.append(loss.item())\n",
    "        optimizer6.zero_grad()\n",
    "        loss.backward()\n",
    "        optimizer6.step()\n",
    "\n",
    "plt.plot(loss6)"
   ]
  },
  {
   "cell_type": "markdown",
   "metadata": {},
   "source": [
    "### Q6 Using Default Data"
   ]
  },
  {
   "cell_type": "code",
   "execution_count": 43,
   "metadata": {},
   "outputs": [],
   "source": [
    "from sklearn.model_selection import train_test_split\n",
    "\n",
    "data6 = pd.read_csv('Default.txt',sep='\\t', header=None)\n",
    "data6.columns = ['x1', 'x2', 'y']\n",
    "data = pd.get_dummies(data6, columns=['y'], drop_first=True)\n",
    "\n",
    "x_data = data[['x1', 'x2']].values\n",
    "y_data = data['y_Yes'].values\n",
    "\n",
    "x = torch.tensor(x_data, dtype=torch.float32)\n",
    "y = torch.tensor(y_data, dtype=torch.float32)\n",
    "\n",
    "x_train, x_test, y_train, y_test = train_test_split(x, y, test_size=0.2, random_state=42)\n",
    "\n",
    "train_data = TensorDataset(x_train, y_train)\n",
    "test_data = TensorDataset(x_test, y_test)\n",
    "\n",
    "train_loader = DataLoader(train_data, batch_size=100, shuffle=True)\n",
    "test_loader = DataLoader(test_data, batch_size=100, shuffle=True)"
   ]
  },
  {
   "cell_type": "code",
   "execution_count": 59,
   "metadata": {},
   "outputs": [],
   "source": [
    "class Net6(nn.Module):\n",
    "    def __init__(self):\n",
    "        super(Net6, self).__init__()\n",
    "        self.l1 = nn.Linear(2, 64)\n",
    "        self.l2 = nn.Linear(64, 1)\n",
    "        \n",
    "    def forward(self, x):\n",
    "        x = self.l1(x)\n",
    "        x = torch.sigmoid(x)\n",
    "        x = self.l2(x)\n",
    "        return x\n",
    "\n",
    "model6 = Net6()"
   ]
  },
  {
   "cell_type": "code",
   "execution_count": 60,
   "metadata": {},
   "outputs": [
    {
     "data": {
      "text/plain": [
       "[<matplotlib.lines.Line2D at 0x1f9239ae9e0>]"
      ]
     },
     "execution_count": 60,
     "metadata": {},
     "output_type": "execute_result"
    },
    {
     "name": "stdout",
     "output_type": "stream",
     "text": [
      "The minimum loss is 0.68\n"
     ]
    },
    {
     "data": {
      "image/png": "[encoded data removed]",
      "text/plain": [
       "<Figure size 432x288 with 1 Axes>"
      ]
     },
     "metadata": {
      "needs_background": "light"
     },
     "output_type": "display_data"
    }
   ],
   "source": [
    "epoch = 20\n",
    "lr = 1e-3\n",
    "\n",
    "criterion = nn.BCEWithLogitsLoss()\n",
    "optimizer6 = optim.SGD(model6.parameters(), lr=lr)\n",
    "\n",
    "loss6 = list()\n",
    "\n",
    "for i in range(epoch):\n",
    "    for x, y in train_loader:\n",
    "        y_hat = model6(x)\n",
    "        loss = criterion(y_hat, y.unsqueeze(1))\n",
    "        loss6.append(loss.item())\n",
    "        optimizer6.zero_grad()\n",
    "        loss.backward()\n",
    "        optimizer6.step()\n",
    "\n",
    "plt.plot(loss6)\n",
    "print('The minimum loss is %.2f' % min(loss6))"
   ]
  },
  {
   "cell_type": "code",
   "execution_count": 61,
   "metadata": {},
   "outputs": [
    {
     "data": {
      "text/plain": [
       "Net6(\n",
       "  (l1): Linear(in_features=2, out_features=64, bias=True)\n",
       "  (l2): Linear(in_features=64, out_features=1, bias=True)\n",
       ")"
      ]
     },
     "execution_count": 61,
     "metadata": {},
     "output_type": "execute_result"
    },
    {
     "data": {
      "text/plain": [
       "array([[ 8,  0],\n",
       "       [12,  0]], dtype=int64)"
      ]
     },
     "execution_count": 61,
     "metadata": {},
     "output_type": "execute_result"
    },
    {
     "name": "stdout",
     "output_type": "stream",
     "text": [
      "              precision    recall  f1-score   support\n",
      "\n",
      "         0.0       0.40      1.00      0.57         8\n",
      "         1.0       0.00      0.00      0.00        12\n",
      "\n",
      "    accuracy                           0.40        20\n",
      "   macro avg       0.20      0.50      0.29        20\n",
      "weighted avg       0.16      0.40      0.23        20\n",
      "\n"
     ]
    }
   ],
   "source": [
    "# print confusion matrix\n",
    "from sklearn.metrics import confusion_matrix\n",
    "from sklearn.metrics import classification_report\n",
    "\n",
    "model6.eval()\n",
    "\n",
    "y_pred6 = list()\n",
    "y_true6 = list()\n",
    "\n",
    "for x, y in test_loader:\n",
    "    y_hat = model6(x)\n",
    "    y_hat = torch.round(y_hat)\n",
    "    y_pred6.extend(y_hat.tolist())\n",
    "    y_true6.extend(y.tolist())\n",
    "\n",
    "confusion_matrix(y_true6, y_pred6)\n",
    "print(classification_report(y_true6, y_pred6))"
   ]
  }
 ],
 "metadata": {
  "kernelspec": {
   "display_name": "Python 3.10.2 64-bit",
   "language": "python",
   "name": "python3"
  },
  "language_info": {
   "codemirror_mode": {
    "name": "ipython",
    "version": 3
   },
   "file_extension": ".py",
   "mimetype": "text/x-python",
   "name": "python",
   "nbconvert_exporter": "python",
   "pygments_lexer": "ipython3",
   "version": "3.10.2"
  },
  "orig_nbformat": 4,
  "vscode": {
   "interpreter": {
    "hash": "e0e336b1a2a1e2ebd2ba24f5a9da77c2b9301bb429c7020fd46a35ddd30d005b"
   }
  }
 },
 "nbformat": 4,
 "nbformat_minor": 2
}
