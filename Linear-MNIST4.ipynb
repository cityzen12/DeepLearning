{
 "cells": [
  {
   "cell_type": "markdown",
   "metadata": {},
   "source": [
    "### A linear network for MNIST dataset\n",
    "##### Add more hidden layers and using L2, dropout\n",
    "###### Draw the weight and reshpe, with no hidden layers"
   ]
  },
  {
   "cell_type": "code",
   "execution_count": 1,
   "metadata": {},
   "outputs": [],
   "source": [
    "import pandas as pd\n",
    "import numpy as np\n",
    "import matplotlib.pyplot as plt\n",
    "import idx2numpy\n",
    "import os\n",
    "import gzip\n",
    "\n",
    "import torch\n",
    "import torch.nn as nn\n",
    "import torch.nn.functional as F\n",
    "import torch.optim as optim\n",
    "from torch.utils.data import Dataset, DataLoader, TensorDataset\n",
    "\n",
    "import warnings\n",
    "from IPython.core.interactiveshell import InteractiveShell\n",
    "\n",
    "from sklearn.model_selection import train_test_split\n",
    "\n",
    "warnings.filterwarnings('ignore')"
   ]
  },
  {
   "cell_type": "markdown",
   "metadata": {},
   "source": [
    "### Q1 Using Default"
   ]
  },
  {
   "cell_type": "code",
   "execution_count": 2,
   "metadata": {},
   "outputs": [],
   "source": [
    "data1 = pd.read_csv('Default.txt',sep='\\t', header=None)\n",
    "data1.columns = ['x1', 'x2', 'y']\n",
    "data = pd.get_dummies(data1, columns=['y'], drop_first=True)\n",
    "\n",
    "x_data = data[['x1', 'x2']].values\n",
    "y_data = data['y_Yes'].values\n",
    "\n",
    "x = torch.tensor(x_data, dtype=torch.float32)\n",
    "y = torch.tensor(y_data, dtype=torch.float32)\n",
    "\n",
    "x_train, x_test, y_train, y_test = train_test_split(x, y, test_size=0.2, random_state=42)\n",
    "\n",
    "train_data = TensorDataset(x_train, y_train)\n",
    "test_data = TensorDataset(x_test, y_test)\n",
    "\n",
    "train_loader = DataLoader(train_data, batch_size=2, shuffle=True)\n",
    "test_loader = DataLoader(test_data, batch_size=2, shuffle=True)"
   ]
  },
  {
   "cell_type": "code",
   "execution_count": 3,
   "metadata": {},
   "outputs": [],
   "source": [
    "class net1(nn.Module):\n",
    "    def __init__(self):\n",
    "        super(net1, self).__init__()\n",
    "        self.l1 = nn.Linear(2, 1)\n",
    "    def forward(self, x):\n",
    "        x = F.sigmoid(self.l1(x))\n",
    "        return x\n",
    "\n",
    "model1 = net1()"
   ]
  },
  {
   "cell_type": "code",
   "execution_count": 4,
   "metadata": {},
   "outputs": [
    {
     "data": {
      "text/plain": [
       "[<matplotlib.lines.Line2D at 0x180b7834700>]"
      ]
     },
     "execution_count": 4,
     "metadata": {},
     "output_type": "execute_result"
    },
    {
     "data": {
      "image/png": "[encoded data removed]",
      "text/plain": [
       "<Figure size 432x288 with 1 Axes>"
      ]
     },
     "metadata": {
      "needs_background": "light"
     },
     "output_type": "display_data"
    }
   ],
   "source": [
    "criterion = nn.BCELoss()\n",
    "optimizer = optim.SGD(model1.parameters(), lr=1e-3)\n",
    "\n",
    "epoch = 100\n",
    "loss = []\n",
    "\n",
    "for i in range(epoch):\n",
    "    for x, y in train_loader:\n",
    "        optimizer.zero_grad()\n",
    "        y_pred = model1(x)\n",
    "        loss1 = criterion(y_pred, y.view(-1, 1))\n",
    "        loss1.backward()\n",
    "        optimizer.step()\n",
    "        loss.append(loss1.item())\n",
    "\n",
    "plt.plot(loss)"
   ]
  },
  {
   "cell_type": "markdown",
   "metadata": {},
   "source": [
    "### Q2 Mnist with 3 hidden layers"
   ]
  },
  {
   "cell_type": "code",
   "execution_count": 2,
   "metadata": {},
   "outputs": [],
   "source": [
    "x_train = idx2numpy.convert_from_file('mnist/train-images.idx3-ubyte')\n",
    "y_train = idx2numpy.convert_from_file('mnist/train-labels.idx1-ubyte')\n",
    "x_test = idx2numpy.convert_from_file('mnist/t10k-images.idx3-ubyte')\n",
    "y_test = idx2numpy.convert_from_file('mnist/t10k-labels.idx1-ubyte')\n",
    "\n",
    "train_data = TensorDataset(torch.from_numpy(x_train).float(), torch.from_numpy(y_train).long())\n",
    "test_data = TensorDataset(torch.from_numpy(x_test).float(), torch.from_numpy(y_test).long())\n",
    "train_loader = DataLoader(train_data, batch_size=64, shuffle=True)\n",
    "test_loader = DataLoader(test_data, batch_size=64, shuffle=True)"
   ]
  },
  {
   "cell_type": "code",
   "execution_count": 3,
   "metadata": {},
   "outputs": [],
   "source": [
    "class net2(nn.Module):\n",
    "    def __init__(self):\n",
    "        super(net2, self).__init__()\n",
    "        self.flatten = nn.Flatten()\n",
    "        self.l1 = nn.Linear(784, 256)\n",
    "        self.l2 = nn.Linear(256, 128)\n",
    "        self.l3 = nn.Linear(128, 64)\n",
    "        self.l4 = nn.Linear(64, 10)\n",
    "\n",
    "    def forward(self, x):\n",
    "        x = self.flatten(x)\n",
    "        x = F.relu(self.l1(x))\n",
    "        x = torch.tanh(self.l2(x))\n",
    "        x = self.l3(x)\n",
    "        x = self.l4(x)\n",
    "        return x"
   ]
  },
  {
   "cell_type": "code",
   "execution_count": 4,
   "metadata": {},
   "outputs": [
    {
     "name": "stdout",
     "output_type": "stream",
     "text": [
      "After 1 epoch, loss is 0.7346135377883911\n",
      "After 2 epoch, loss is 0.34930744767189026\n",
      "After 3 epoch, loss is 0.355508953332901\n",
      "After 4 epoch, loss is 0.23765955865383148\n",
      "After 5 epoch, loss is 0.4269735813140869\n",
      "After 6 epoch, loss is 0.18437887728214264\n",
      "After 7 epoch, loss is 0.2539713978767395\n",
      "After 8 epoch, loss is 0.09410946816205978\n",
      "After 9 epoch, loss is 0.3164931833744049\n",
      "After 10 epoch, loss is 0.11874015629291534\n",
      "After 11 epoch, loss is 0.11800059676170349\n",
      "After 12 epoch, loss is 0.07236747443675995\n",
      "After 13 epoch, loss is 0.13024377822875977\n",
      "After 14 epoch, loss is 0.050389327108860016\n",
      "After 15 epoch, loss is 0.07195869833230972\n",
      "After 16 epoch, loss is 0.11053920537233353\n",
      "After 17 epoch, loss is 0.010931373573839664\n",
      "After 18 epoch, loss is 0.054764848202466965\n",
      "After 19 epoch, loss is 0.14540863037109375\n",
      "After 20 epoch, loss is 0.01244727335870266\n"
     ]
    },
    {
     "data": {
      "text/plain": [
       "[<matplotlib.lines.Line2D at 0x1e71f2616f0>]"
      ]
     },
     "execution_count": 4,
     "metadata": {},
     "output_type": "execute_result"
    },
    {
     "data": {
      "image/png": "[encoded data removed]",
      "text/plain": [
       "<Figure size 432x288 with 1 Axes>"
      ]
     },
     "metadata": {
      "needs_background": "light"
     },
     "output_type": "display_data"
    }
   ],
   "source": [
    "model2 = net2()\n",
    "\n",
    "model2.train()\n",
    "\n",
    "critertion = nn.CrossEntropyLoss()\n",
    "optimizer = optim.SGD(model2.parameters(), lr=1e-3)\n",
    "\n",
    "epoch = 20\n",
    "loss = []\n",
    "\n",
    "for i in range(epoch):\n",
    "    for x, y in train_loader:\n",
    "        optimizer.zero_grad()\n",
    "        y_pred = model2(x)\n",
    "        loss1 = critertion(y_pred, y)\n",
    "        loss1.backward()\n",
    "        optimizer.step()\n",
    "        loss.append(loss1.item())\n",
    "    print('After {} epoch, loss is {}'.format(i+1, loss1.item()))\n",
    "\n",
    "plt.plot(loss)"
   ]
  },
  {
   "cell_type": "code",
   "execution_count": 51,
   "metadata": {},
   "outputs": [
    {
     "data": {
      "text/plain": [
       "net2(\n",
       "  (flatten): Flatten(start_dim=1, end_dim=-1)\n",
       "  (l1): Linear(in_features=784, out_features=256, bias=True)\n",
       "  (l2): Linear(in_features=256, out_features=128, bias=True)\n",
       "  (l3): Linear(in_features=128, out_features=64, bias=True)\n",
       "  (l4): Linear(in_features=64, out_features=10, bias=True)\n",
       ")"
      ]
     },
     "execution_count": 51,
     "metadata": {},
     "output_type": "execute_result"
    },
    {
     "name": "stdout",
     "output_type": "stream",
     "text": [
      "Accuracy of the network on the 10000 test images: 95 %\n"
     ]
    }
   ],
   "source": [
    "model2.eval()\n",
    "\n",
    "correct = 0\n",
    "total = 0\n",
    "with torch.no_grad():\n",
    "    for x, y in test_loader:\n",
    "        y_pred = model2(x)\n",
    "        _, predicted = torch.max(y_pred.data, 1)\n",
    "        total += y.size(0)\n",
    "        correct += (predicted == y).sum().item()\n",
    "\n",
    "print('Accuracy of the network on the 10000 test images: %d %%' % (100 * correct / total))"
   ]
  },
  {
   "cell_type": "code",
   "execution_count": 54,
   "metadata": {},
   "outputs": [
    {
     "data": {
      "text/plain": [
       "net2(\n",
       "  (flatten): Flatten(start_dim=1, end_dim=-1)\n",
       "  (l1): Linear(in_features=784, out_features=256, bias=True)\n",
       "  (l2): Linear(in_features=256, out_features=128, bias=True)\n",
       "  (l3): Linear(in_features=128, out_features=64, bias=True)\n",
       "  (l4): Linear(in_features=64, out_features=10, bias=True)\n",
       ")"
      ]
     },
     "execution_count": 54,
     "metadata": {},
     "output_type": "execute_result"
    },
    {
     "name": "stdout",
     "output_type": "stream",
     "text": [
      "After 1 epoch, loss is 0.030949434265494347\n",
      "After 2 epoch, loss is 0.16277751326560974\n",
      "After 3 epoch, loss is 0.017898691818118095\n",
      "After 4 epoch, loss is 0.044134534895420074\n",
      "After 5 epoch, loss is 0.060969606041908264\n",
      "After 6 epoch, loss is 0.07876385748386383\n",
      "After 7 epoch, loss is 0.07677033543586731\n",
      "After 8 epoch, loss is 0.012212725356221199\n",
      "After 9 epoch, loss is 0.00849837064743042\n",
      "After 10 epoch, loss is 0.010916047729551792\n",
      "After 11 epoch, loss is 0.07642175257205963\n",
      "After 12 epoch, loss is 0.031433530151844025\n",
      "After 13 epoch, loss is 0.03658362478017807\n",
      "After 14 epoch, loss is 0.011685380712151527\n",
      "After 15 epoch, loss is 0.03606713190674782\n",
      "After 16 epoch, loss is 0.0045656547881662846\n",
      "After 17 epoch, loss is 0.046932462602853775\n",
      "After 18 epoch, loss is 0.07574497163295746\n",
      "After 19 epoch, loss is 0.021380217745900154\n",
      "After 20 epoch, loss is 0.003640406299382448\n"
     ]
    },
    {
     "data": {
      "text/plain": [
       "[<matplotlib.lines.Line2D at 0x18918fc7c10>]"
      ]
     },
     "execution_count": 54,
     "metadata": {},
     "output_type": "execute_result"
    },
    {
     "data": {
      "image/png": "[encoded data removed]",
      "text/plain": [
       "<Figure size 432x288 with 1 Axes>"
      ]
     },
     "metadata": {
      "needs_background": "light"
     },
     "output_type": "display_data"
    }
   ],
   "source": [
    "#Using L2 regularization\n",
    "\n",
    "model2.train()\n",
    "optimizer = optim.SGD(model2.parameters(), lr=1e-3, weight_decay=1e-5)\n",
    "\n",
    "epoch = 20\n",
    "loss = []\n",
    "\n",
    "for i in range(epoch):\n",
    "    for x, y in train_loader:\n",
    "        optimizer.zero_grad()\n",
    "        y_pred = model2(x)\n",
    "        loss1 = critertion(y_pred, y)\n",
    "        loss1.backward()\n",
    "        optimizer.step()\n",
    "        loss.append(loss1.item())\n",
    "    print('After {} epoch, loss is {}'.format(i+1, loss1.item()))\n",
    "\n",
    "plt.plot(loss)"
   ]
  },
  {
   "cell_type": "code",
   "execution_count": 55,
   "metadata": {},
   "outputs": [
    {
     "data": {
      "text/plain": [
       "net2(\n",
       "  (flatten): Flatten(start_dim=1, end_dim=-1)\n",
       "  (l1): Linear(in_features=784, out_features=256, bias=True)\n",
       "  (l2): Linear(in_features=256, out_features=128, bias=True)\n",
       "  (l3): Linear(in_features=128, out_features=64, bias=True)\n",
       "  (l4): Linear(in_features=64, out_features=10, bias=True)\n",
       ")"
      ]
     },
     "execution_count": 55,
     "metadata": {},
     "output_type": "execute_result"
    },
    {
     "name": "stdout",
     "output_type": "stream",
     "text": [
      "Accuracy of the network on the 10000 test images: 96 %\n"
     ]
    }
   ],
   "source": [
    "model2.eval()\n",
    "\n",
    "correct = 0\n",
    "total = 0\n",
    "\n",
    "with torch.no_grad():\n",
    "    for x, y in test_loader:\n",
    "        y_pred = model2(x)\n",
    "        _, predicted = torch.max(y_pred.data, 1)\n",
    "        total += y.size(0)\n",
    "        correct += (predicted == y).sum().item()\n",
    "\n",
    "print('Accuracy of the network on the 10000 test images: %d %%' % (100 * correct / total))"
   ]
  },
  {
   "cell_type": "markdown",
   "metadata": {},
   "source": [
    "### Q3 Mnist with 4 hidden layers, Dropout and L2"
   ]
  },
  {
   "cell_type": "code",
   "execution_count": 15,
   "metadata": {},
   "outputs": [],
   "source": [
    "class net3(nn.Module):\n",
    "    def __init__(self):\n",
    "        super(net3, self).__init__()\n",
    "        self.flatten = nn.Flatten()\n",
    "        self.l1 = nn.Linear(784, 256)\n",
    "        self.l2 = nn.Linear(256, 128)\n",
    "        self.l3 = nn.Linear(128, 64)\n",
    "        self.l4 = nn.Linear(64, 32)\n",
    "        self.l5 = nn.Linear(32, 10)\n",
    "        self.dropout = nn.Dropout(p=0.2)\n",
    "\n",
    "    def forward(self, x):\n",
    "        x = self.flatten(x)\n",
    "        x = F.relu(self.l1(x))\n",
    "        x = torch.tanh(self.l2(x))\n",
    "        x = self.l3(x)\n",
    "        x = self.l4(x)\n",
    "        x = self.l5(x)\n",
    "        x = self.dropout(x)\n",
    "        return x"
   ]
  },
  {
   "cell_type": "code",
   "execution_count": 16,
   "metadata": {},
   "outputs": [
    {
     "data": {
      "text/plain": [
       "net3(\n",
       "  (flatten): Flatten(start_dim=1, end_dim=-1)\n",
       "  (l1): Linear(in_features=784, out_features=256, bias=True)\n",
       "  (l2): Linear(in_features=256, out_features=128, bias=True)\n",
       "  (l3): Linear(in_features=128, out_features=64, bias=True)\n",
       "  (l4): Linear(in_features=64, out_features=32, bias=True)\n",
       "  (l5): Linear(in_features=32, out_features=10, bias=True)\n",
       "  (dropout): Dropout(p=0.2, inplace=False)\n",
       ")"
      ]
     },
     "execution_count": 16,
     "metadata": {},
     "output_type": "execute_result"
    },
    {
     "name": "stdout",
     "output_type": "stream",
     "text": [
      "After 1 epoch, loss is 1.4922871589660645\n",
      "After 2 epoch, loss is 1.1352896690368652\n",
      "After 3 epoch, loss is 0.8842189311981201\n",
      "After 4 epoch, loss is 0.7013450264930725\n",
      "After 5 epoch, loss is 0.660666823387146\n",
      "After 6 epoch, loss is 0.5487816333770752\n",
      "After 7 epoch, loss is 0.37553706765174866\n",
      "After 8 epoch, loss is 0.557024359703064\n",
      "After 9 epoch, loss is 0.5261552929878235\n",
      "After 10 epoch, loss is 0.547786295413971\n",
      "After 11 epoch, loss is 0.28385788202285767\n",
      "After 12 epoch, loss is 0.44475802779197693\n",
      "After 13 epoch, loss is 0.44767847657203674\n",
      "After 14 epoch, loss is 0.373678058385849\n",
      "After 15 epoch, loss is 0.3435481786727905\n",
      "After 16 epoch, loss is 0.3159545361995697\n",
      "After 17 epoch, loss is 0.6215881705284119\n",
      "After 18 epoch, loss is 0.30962085723876953\n",
      "After 19 epoch, loss is 0.4957864284515381\n",
      "After 20 epoch, loss is 0.44039100408554077\n"
     ]
    },
    {
     "data": {
      "text/plain": [
       "[<matplotlib.lines.Line2D at 0x26d5e55aec0>]"
      ]
     },
     "execution_count": 16,
     "metadata": {},
     "output_type": "execute_result"
    },
    {
     "data": {
      "image/png": "[encoded data removed]",
      "text/plain": [
       "<Figure size 432x288 with 1 Axes>"
      ]
     },
     "metadata": {
      "needs_background": "light"
     },
     "output_type": "display_data"
    }
   ],
   "source": [
    "model3 = net3()\n",
    "\n",
    "model3.train()\n",
    "\n",
    "critertion = nn.CrossEntropyLoss()\n",
    "optimizer = optim.SGD(model3.parameters(), lr=1e-3, weight_decay=1e-5)\n",
    "\n",
    "epoch = 20\n",
    "loss = []\n",
    "\n",
    "for i in range(epoch):\n",
    "    for x, y in train_loader:\n",
    "        optimizer.zero_grad()\n",
    "        y_pred = model3(x)\n",
    "        loss1 = critertion(y_pred, y)\n",
    "        loss1.backward()\n",
    "        optimizer.step()\n",
    "        loss.append(loss1.item())\n",
    "    print('After {} epoch, loss is {}'.format(i+1, loss1.item()))\n",
    "\n",
    "plt.plot(loss)"
   ]
  },
  {
   "cell_type": "code",
   "execution_count": 17,
   "metadata": {},
   "outputs": [
    {
     "data": {
      "text/plain": [
       "net3(\n",
       "  (flatten): Flatten(start_dim=1, end_dim=-1)\n",
       "  (l1): Linear(in_features=784, out_features=256, bias=True)\n",
       "  (l2): Linear(in_features=256, out_features=128, bias=True)\n",
       "  (l3): Linear(in_features=128, out_features=64, bias=True)\n",
       "  (l4): Linear(in_features=64, out_features=32, bias=True)\n",
       "  (l5): Linear(in_features=32, out_features=10, bias=True)\n",
       "  (dropout): Dropout(p=0.2, inplace=False)\n",
       ")"
      ]
     },
     "execution_count": 17,
     "metadata": {},
     "output_type": "execute_result"
    },
    {
     "name": "stdout",
     "output_type": "stream",
     "text": [
      "Accuracy of the network on the 10000 test images: 96 %\n"
     ]
    }
   ],
   "source": [
    "model3.eval()\n",
    "\n",
    "correct = 0\n",
    "total = 0\n",
    "\n",
    "with torch.no_grad():\n",
    "    for x, y in test_loader:\n",
    "        y_pred = model3(x)\n",
    "        _, predicted = torch.max(y_pred.data, 1)\n",
    "        total += y.size(0)\n",
    "        correct += (predicted == y).sum().item()\n",
    "\n",
    "print('Accuracy of the network on the 10000 test images: %d %%' % (100 * correct / total))"
   ]
  },
  {
   "cell_type": "markdown",
   "metadata": {},
   "source": [
    "### Q4 Fashion-Mnist with 2 hidden layers"
   ]
  },
  {
   "cell_type": "code",
   "execution_count": 13,
   "metadata": {},
   "outputs": [],
   "source": [
    "def load_mnist_sub(path, kind):\n",
    "    \"\"\"Load MNIST data from `path`\"\"\"\n",
    "    labels_path = os.path.join(path,\n",
    "                               '%s-labels-idx1-ubyte.gz'\n",
    "                               % kind)\n",
    "    images_path = os.path.join(path,\n",
    "                               '%s-images-idx3-ubyte.gz'\n",
    "                               % kind)\n",
    "\n",
    "    with gzip.open(labels_path, 'rb') as lbpath:\n",
    "        labels = np.frombuffer(lbpath.read(), dtype=np.uint8,\n",
    "                               offset=0)\n",
    "\n",
    "    with gzip.open(images_path, 'rb') as imgpath:\n",
    "        images = np.frombuffer(imgpath.read(), dtype=np.uint8,\n",
    "                               offset=0).reshape(len(labels), 784)\n",
    "\n",
    "    return images, labels\n",
    "\n",
    "x_train, y_train = load_mnist_sub('fashion_sub', kind='train_sub')\n",
    "x_test, y_test = load_mnist_sub('fashion_sub', kind='test_sub')\n",
    "\n",
    "x_train = x_train.reshape(-1, 28, 28)\n",
    "x_test = x_test.reshape(-1, 28, 28)\n",
    "\n",
    "x_train = torch.from_numpy(x_train).float()\n",
    "y_train = torch.from_numpy(y_train).long()\n",
    "\n",
    "x_test = torch.from_numpy(x_test).float()\n",
    "y_test = torch.from_numpy(y_test).long()\n",
    "\n",
    "train_dataset = TensorDataset(x_train, y_train)\n",
    "test_dataset = TensorDataset(x_test, y_test)\n",
    "\n",
    "train_loader = DataLoader(train_dataset, batch_size=16, shuffle=True)\n",
    "test_loader = DataLoader(test_dataset, batch_size=16, shuffle=False)"
   ]
  },
  {
   "cell_type": "code",
   "execution_count": 25,
   "metadata": {},
   "outputs": [],
   "source": [
    "class net4(nn.Module):\n",
    "    def __init__(self):\n",
    "        super(net4, self).__init__()\n",
    "        self.flatten = nn.Flatten()\n",
    "        self.l1 = nn.Linear(784, 256)\n",
    "        self.l2 = nn.Linear(256, 100)\n",
    "        self.l3 = nn.Linear(100, 10)\n",
    "\n",
    "    def forward(self, x):\n",
    "        x = self.flatten(x)\n",
    "        x = F.relu(self.l1(x))\n",
    "        x = torch.tanh(self.l2(x))\n",
    "        x = self.l3(x)\n",
    "        return x"
   ]
  },
  {
   "cell_type": "code",
   "execution_count": 26,
   "metadata": {},
   "outputs": [
    {
     "data": {
      "text/plain": [
       "net4(\n",
       "  (flatten): Flatten(start_dim=1, end_dim=-1)\n",
       "  (l1): Linear(in_features=784, out_features=256, bias=True)\n",
       "  (l2): Linear(in_features=256, out_features=100, bias=True)\n",
       "  (l3): Linear(in_features=100, out_features=10, bias=True)\n",
       ")"
      ]
     },
     "execution_count": 26,
     "metadata": {},
     "output_type": "execute_result"
    },
    {
     "name": "stdout",
     "output_type": "stream",
     "text": [
      "After 1 epoch, loss is 1.2663979530334473\n",
      "After 2 epoch, loss is 1.146286964416504\n",
      "After 3 epoch, loss is 1.1687453985214233\n",
      "After 4 epoch, loss is 0.8370628356933594\n",
      "After 5 epoch, loss is 0.5051360130310059\n",
      "After 6 epoch, loss is 1.003195881843567\n",
      "After 7 epoch, loss is 1.114830493927002\n",
      "After 8 epoch, loss is 0.43773970007896423\n",
      "After 9 epoch, loss is 0.4876434803009033\n",
      "After 10 epoch, loss is 1.027235746383667\n",
      "After 11 epoch, loss is 0.7832172513008118\n",
      "After 12 epoch, loss is 0.9242568016052246\n",
      "After 13 epoch, loss is 0.7727612257003784\n",
      "After 14 epoch, loss is 0.7893733382225037\n",
      "After 15 epoch, loss is 0.7011507749557495\n",
      "After 16 epoch, loss is 0.28252875804901123\n",
      "After 17 epoch, loss is 0.7311955094337463\n",
      "After 18 epoch, loss is 0.46802961826324463\n",
      "After 19 epoch, loss is 0.5433268547058105\n",
      "After 20 epoch, loss is 0.6529744863510132\n"
     ]
    },
    {
     "data": {
      "text/plain": [
       "[<matplotlib.lines.Line2D at 0x19b13dadf30>]"
      ]
     },
     "execution_count": 26,
     "metadata": {},
     "output_type": "execute_result"
    },
    {
     "data": {
      "image/png": "[encoded data removed]",
      "text/plain": [
       "<Figure size 432x288 with 1 Axes>"
      ]
     },
     "metadata": {
      "needs_background": "light"
     },
     "output_type": "display_data"
    }
   ],
   "source": [
    "model4 = net4()\n",
    "\n",
    "model4.train()\n",
    "\n",
    "critertion = nn.CrossEntropyLoss()\n",
    "optimizer = optim.SGD(model4.parameters(), lr=1e-3)\n",
    "\n",
    "epoch = 20\n",
    "loss = []\n",
    "\n",
    "for i in range(epoch):\n",
    "    for x, y in train_loader:\n",
    "        optimizer.zero_grad()\n",
    "        y_pred = model4(x)\n",
    "        loss1 = critertion(y_pred, y)\n",
    "        loss1.backward()\n",
    "        optimizer.step()\n",
    "        loss.append(loss1.item())\n",
    "    print('After {} epoch, loss is {}'.format(i+1, loss1.item()))\n",
    "\n",
    "plt.plot(loss)"
   ]
  },
  {
   "cell_type": "code",
   "execution_count": 27,
   "metadata": {},
   "outputs": [
    {
     "data": {
      "text/plain": [
       "net4(\n",
       "  (flatten): Flatten(start_dim=1, end_dim=-1)\n",
       "  (l1): Linear(in_features=784, out_features=256, bias=True)\n",
       "  (l2): Linear(in_features=256, out_features=100, bias=True)\n",
       "  (l3): Linear(in_features=100, out_features=10, bias=True)\n",
       ")"
      ]
     },
     "execution_count": 27,
     "metadata": {},
     "output_type": "execute_result"
    },
    {
     "name": "stdout",
     "output_type": "stream",
     "text": [
      "Accuracy of the network on the 2999 test images: 72 %\n"
     ]
    }
   ],
   "source": [
    "model4.eval()\n",
    "\n",
    "correct = 0\n",
    "total = 0\n",
    "\n",
    "with torch.no_grad():\n",
    "    for x, y in test_loader:\n",
    "        y_pred = model4(x)\n",
    "        _, predicted = torch.max(y_pred.data, 1)\n",
    "        total += y.size(0)\n",
    "        correct += (predicted == y).sum().item()\n",
    "\n",
    "print('Accuracy of the network on the 2999 test images: %d %%' % (100 * correct / total))"
   ]
  },
  {
   "cell_type": "markdown",
   "metadata": {},
   "source": [
    "### Q5 Mnist with weight matrix"
   ]
  },
  {
   "cell_type": "code",
   "execution_count": 3,
   "metadata": {},
   "outputs": [],
   "source": [
    "# network with no hidden layer\n",
    "\n",
    "class net5(nn.Module):\n",
    "    def __init__(self):\n",
    "        super(net5, self).__init__()\n",
    "        self.flatten = nn.Flatten()\n",
    "        self.l1 = nn.Linear(784, 10)\n",
    "\n",
    "    def forward(self, x):\n",
    "        x = self.flatten(x)\n",
    "        x = self.l1(x)\n",
    "        return x"
   ]
  },
  {
   "cell_type": "code",
   "execution_count": 4,
   "metadata": {},
   "outputs": [
    {
     "name": "stdout",
     "output_type": "stream",
     "text": [
      "After 1 epoch, loss is 26.672222137451172\n",
      "After 2 epoch, loss is 11.956439971923828\n",
      "After 3 epoch, loss is 8.95389175415039\n",
      "After 4 epoch, loss is 12.266016006469727\n",
      "After 5 epoch, loss is 18.59329605102539\n",
      "After 6 epoch, loss is 37.02199172973633\n",
      "After 7 epoch, loss is 0.0\n",
      "After 8 epoch, loss is 24.186025619506836\n",
      "After 9 epoch, loss is 14.945781707763672\n",
      "After 10 epoch, loss is 20.10601806640625\n",
      "After 11 epoch, loss is 15.886828422546387\n",
      "After 12 epoch, loss is 10.541671752929688\n",
      "After 13 epoch, loss is 0.0006582175847142935\n",
      "After 14 epoch, loss is 14.431650161743164\n",
      "After 15 epoch, loss is 7.337377548217773\n",
      "After 16 epoch, loss is 14.703798294067383\n",
      "After 17 epoch, loss is 2.928107261657715\n",
      "After 18 epoch, loss is 4.528280258178711\n",
      "After 19 epoch, loss is 17.814926147460938\n",
      "After 20 epoch, loss is 6.539333343505859\n",
      "Accuracy of the network on the 10000 test images: 82 %\n"
     ]
    },
    {
     "data": {
      "image/png": "[encoded data removed]",
      "text/plain": [
       "<Figure size 432x288 with 1 Axes>"
      ]
     },
     "metadata": {
      "needs_background": "light"
     },
     "output_type": "display_data"
    }
   ],
   "source": [
    "model5 = net5()\n",
    "\n",
    "model5.train()\n",
    "\n",
    "critertion = nn.CrossEntropyLoss()\n",
    "optimizer = optim.SGD(model5.parameters(), lr=1e-3)\n",
    "\n",
    "epoch = 20\n",
    "loss = []\n",
    "\n",
    "for i in range(epoch):\n",
    "    for x, y in train_loader:\n",
    "        optimizer.zero_grad()\n",
    "        y_pred = model5(x)\n",
    "        loss1 = critertion(y_pred, y)\n",
    "        loss1.backward()\n",
    "        optimizer.step()\n",
    "        loss.append(loss1.item())\n",
    "    print('After {} epoch, loss is {}'.format(i+1, loss1.item()))\n",
    "\n",
    "plt.plot(loss)\n",
    "\n",
    "\n",
    "model5.eval()\n",
    "\n",
    "correct = 0\n",
    "total = 0\n",
    "\n",
    "with torch.no_grad():\n",
    "    for x, y in test_loader:\n",
    "        y_pred = model5(x)\n",
    "        _, predicted = torch.max(y_pred.data, 1)\n",
    "        total += y.size(0)\n",
    "        correct += (predicted == y).sum().item()\n",
    "\n",
    "print('Accuracy of the network on the 10000 test images: %d %%' % (100 * correct / total))"
   ]
  },
  {
   "cell_type": "code",
   "execution_count": 6,
   "metadata": {},
   "outputs": [
    {
     "data": {
      "image/png": "[encoded data removed]",
      "text/plain": [
       "<Figure size 432x288 with 10 Axes>"
      ]
     },
     "metadata": {
      "needs_background": "light"
     },
     "output_type": "display_data"
    }
   ],
   "source": [
    "# print the weights\n",
    "\n",
    "weight = model5.l1.weight.data.numpy()\n",
    "weight = weight.reshape(10, 28, 28)\n",
    "\n",
    "labels = [i for i in range(10)]\n",
    "\n",
    "for i in range(10):\n",
    "    plt.subplot(2, 5, i+1)\n",
    "    plt.imshow(weight[i], cmap='gray')\n",
    "    plt.title(labels[i])\n",
    "    plt.axis('off')\n",
    "\n",
    "plt.show()"
   ]
  }
 ],
 "metadata": {
  "kernelspec": {
   "display_name": "Python 3.10.2 64-bit",
   "language": "python",
   "name": "python3"
  },
  "language_info": {
   "codemirror_mode": {
    "name": "ipython",
    "version": 3
   },
   "file_extension": ".py",
   "mimetype": "text/x-python",
   "name": "python",
   "nbconvert_exporter": "python",
   "pygments_lexer": "ipython3",
   "version": "3.10.2"
  },
  "orig_nbformat": 4,
  "vscode": {
   "interpreter": {
    "hash": "e0e336b1a2a1e2ebd2ba24f5a9da77c2b9301bb429c7020fd46a35ddd30d005b"
   }
  }
 },
 "nbformat": 4,
 "nbformat_minor": 2
}
